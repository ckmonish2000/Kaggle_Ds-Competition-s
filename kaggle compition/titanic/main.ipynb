{
 "cells": [
  {
   "cell_type": "code",
   "execution_count": 28,
   "metadata": {},
   "outputs": [],
   "source": [
    "import pandas as pd\n",
    "import torch\n",
    "import torch.nn as nn\n",
    "import numpy as np\n",
    "import matplotlib.pyplot as plt\n",
    "from sklearn import preprocessing\n",
    "from sklearn.model_selection import train_test_split\n",
    "import torch.nn.functional as f"
   ]
  },
  {
   "cell_type": "code",
   "execution_count": 29,
   "metadata": {},
   "outputs": [],
   "source": [
    "ds=pd.read_csv('train.csv')"
   ]
  },
  {
   "cell_type": "code",
   "execution_count": 30,
   "metadata": {},
   "outputs": [],
   "source": [
    "ds=ds.dropna()"
   ]
  },
  {
   "cell_type": "code",
   "execution_count": 31,
   "metadata": {},
   "outputs": [
    {
     "data": {
      "text/html": [
       "<div>\n",
       "<style scoped>\n",
       "    .dataframe tbody tr th:only-of-type {\n",
       "        vertical-align: middle;\n",
       "    }\n",
       "\n",
       "    .dataframe tbody tr th {\n",
       "        vertical-align: top;\n",
       "    }\n",
       "\n",
       "    .dataframe thead th {\n",
       "        text-align: right;\n",
       "    }\n",
       "</style>\n",
       "<table border=\"1\" class=\"dataframe\">\n",
       "  <thead>\n",
       "    <tr style=\"text-align: right;\">\n",
       "      <th></th>\n",
       "      <th>PassengerId</th>\n",
       "      <th>Survived</th>\n",
       "      <th>Pclass</th>\n",
       "      <th>Age</th>\n",
       "      <th>SibSp</th>\n",
       "      <th>Parch</th>\n",
       "      <th>Fare</th>\n",
       "    </tr>\n",
       "  </thead>\n",
       "  <tbody>\n",
       "    <tr>\n",
       "      <th>count</th>\n",
       "      <td>183.000000</td>\n",
       "      <td>183.000000</td>\n",
       "      <td>183.000000</td>\n",
       "      <td>183.000000</td>\n",
       "      <td>183.000000</td>\n",
       "      <td>183.000000</td>\n",
       "      <td>183.000000</td>\n",
       "    </tr>\n",
       "    <tr>\n",
       "      <th>mean</th>\n",
       "      <td>455.366120</td>\n",
       "      <td>0.672131</td>\n",
       "      <td>1.191257</td>\n",
       "      <td>35.674426</td>\n",
       "      <td>0.464481</td>\n",
       "      <td>0.475410</td>\n",
       "      <td>78.682469</td>\n",
       "    </tr>\n",
       "    <tr>\n",
       "      <th>std</th>\n",
       "      <td>247.052476</td>\n",
       "      <td>0.470725</td>\n",
       "      <td>0.515187</td>\n",
       "      <td>15.643866</td>\n",
       "      <td>0.644159</td>\n",
       "      <td>0.754617</td>\n",
       "      <td>76.347843</td>\n",
       "    </tr>\n",
       "    <tr>\n",
       "      <th>min</th>\n",
       "      <td>2.000000</td>\n",
       "      <td>0.000000</td>\n",
       "      <td>1.000000</td>\n",
       "      <td>0.920000</td>\n",
       "      <td>0.000000</td>\n",
       "      <td>0.000000</td>\n",
       "      <td>0.000000</td>\n",
       "    </tr>\n",
       "    <tr>\n",
       "      <th>25%</th>\n",
       "      <td>263.500000</td>\n",
       "      <td>0.000000</td>\n",
       "      <td>1.000000</td>\n",
       "      <td>24.000000</td>\n",
       "      <td>0.000000</td>\n",
       "      <td>0.000000</td>\n",
       "      <td>29.700000</td>\n",
       "    </tr>\n",
       "    <tr>\n",
       "      <th>50%</th>\n",
       "      <td>457.000000</td>\n",
       "      <td>1.000000</td>\n",
       "      <td>1.000000</td>\n",
       "      <td>36.000000</td>\n",
       "      <td>0.000000</td>\n",
       "      <td>0.000000</td>\n",
       "      <td>57.000000</td>\n",
       "    </tr>\n",
       "    <tr>\n",
       "      <th>75%</th>\n",
       "      <td>676.000000</td>\n",
       "      <td>1.000000</td>\n",
       "      <td>1.000000</td>\n",
       "      <td>47.500000</td>\n",
       "      <td>1.000000</td>\n",
       "      <td>1.000000</td>\n",
       "      <td>90.000000</td>\n",
       "    </tr>\n",
       "    <tr>\n",
       "      <th>max</th>\n",
       "      <td>890.000000</td>\n",
       "      <td>1.000000</td>\n",
       "      <td>3.000000</td>\n",
       "      <td>80.000000</td>\n",
       "      <td>3.000000</td>\n",
       "      <td>4.000000</td>\n",
       "      <td>512.329200</td>\n",
       "    </tr>\n",
       "  </tbody>\n",
       "</table>\n",
       "</div>"
      ],
      "text/plain": [
       "       PassengerId    Survived      Pclass         Age       SibSp  \\\n",
       "count   183.000000  183.000000  183.000000  183.000000  183.000000   \n",
       "mean    455.366120    0.672131    1.191257   35.674426    0.464481   \n",
       "std     247.052476    0.470725    0.515187   15.643866    0.644159   \n",
       "min       2.000000    0.000000    1.000000    0.920000    0.000000   \n",
       "25%     263.500000    0.000000    1.000000   24.000000    0.000000   \n",
       "50%     457.000000    1.000000    1.000000   36.000000    0.000000   \n",
       "75%     676.000000    1.000000    1.000000   47.500000    1.000000   \n",
       "max     890.000000    1.000000    3.000000   80.000000    3.000000   \n",
       "\n",
       "            Parch        Fare  \n",
       "count  183.000000  183.000000  \n",
       "mean     0.475410   78.682469  \n",
       "std      0.754617   76.347843  \n",
       "min      0.000000    0.000000  \n",
       "25%      0.000000   29.700000  \n",
       "50%      0.000000   57.000000  \n",
       "75%      1.000000   90.000000  \n",
       "max      4.000000  512.329200  "
      ]
     },
     "execution_count": 31,
     "metadata": {},
     "output_type": "execute_result"
    }
   ],
   "source": [
    "ds.describe()"
   ]
  },
  {
   "cell_type": "code",
   "execution_count": 32,
   "metadata": {},
   "outputs": [],
   "source": [
    "features=[\"Pclass\",\"Age\",\"SibSp\",\"Parch\",\"Fare\",\"Sex\",\"Cabin\"]\n",
    "label=[\"Survived\"]"
   ]
  },
  {
   "cell_type": "code",
   "execution_count": 33,
   "metadata": {},
   "outputs": [
    {
     "data": {
      "text/plain": [
       "PassengerId      int64\n",
       "Survived         int64\n",
       "Pclass           int64\n",
       "Name            object\n",
       "Sex             object\n",
       "Age            float64\n",
       "SibSp            int64\n",
       "Parch            int64\n",
       "Ticket          object\n",
       "Fare           float64\n",
       "Cabin           object\n",
       "Embarked        object\n",
       "dtype: object"
      ]
     },
     "execution_count": 33,
     "metadata": {},
     "output_type": "execute_result"
    }
   ],
   "source": [
    "\n",
    "ds.dtypes"
   ]
  },
  {
   "cell_type": "code",
   "execution_count": 34,
   "metadata": {},
   "outputs": [],
   "source": [
    "cabinlen=len(ds[\"Cabin\"].unique())"
   ]
  },
  {
   "cell_type": "code",
   "execution_count": 35,
   "metadata": {},
   "outputs": [],
   "source": [
    "le=preprocessing.LabelEncoder()"
   ]
  },
  {
   "cell_type": "code",
   "execution_count": 36,
   "metadata": {},
   "outputs": [],
   "source": [
    "encoded_cabin=le.fit_transform(ds[\"Cabin\"].unique())\n",
    "unencoded_cabin=ds[\"Cabin\"].unique()"
   ]
  },
  {
   "cell_type": "code",
   "execution_count": 37,
   "metadata": {},
   "outputs": [],
   "source": [
    "for i in range(cabinlen):\n",
    "    ds.loc[ds[\"Cabin\"]==unencoded_cabin[i],\"Cabin\"]=encoded_cabin[i]"
   ]
  },
  {
   "cell_type": "code",
   "execution_count": 38,
   "metadata": {},
   "outputs": [],
   "source": [
    "# female=0 male=1\n",
    "ds.loc[ds[\"Sex\"]==\"female\",\"Sex\"]=0\n",
    "ds.loc[ds[\"Sex\"]==\"male\",\"Sex\"]=1"
   ]
  },
  {
   "cell_type": "code",
   "execution_count": 39,
   "metadata": {},
   "outputs": [
    {
     "data": {
      "text/html": [
       "<div>\n",
       "<style scoped>\n",
       "    .dataframe tbody tr th:only-of-type {\n",
       "        vertical-align: middle;\n",
       "    }\n",
       "\n",
       "    .dataframe tbody tr th {\n",
       "        vertical-align: top;\n",
       "    }\n",
       "\n",
       "    .dataframe thead th {\n",
       "        text-align: right;\n",
       "    }\n",
       "</style>\n",
       "<table border=\"1\" class=\"dataframe\">\n",
       "  <thead>\n",
       "    <tr style=\"text-align: right;\">\n",
       "      <th></th>\n",
       "      <th>PassengerId</th>\n",
       "      <th>Survived</th>\n",
       "      <th>Pclass</th>\n",
       "      <th>Name</th>\n",
       "      <th>Sex</th>\n",
       "      <th>Age</th>\n",
       "      <th>SibSp</th>\n",
       "      <th>Parch</th>\n",
       "      <th>Ticket</th>\n",
       "      <th>Fare</th>\n",
       "      <th>Cabin</th>\n",
       "      <th>Embarked</th>\n",
       "    </tr>\n",
       "  </thead>\n",
       "  <tbody>\n",
       "    <tr>\n",
       "      <th>1</th>\n",
       "      <td>2</td>\n",
       "      <td>1</td>\n",
       "      <td>1</td>\n",
       "      <td>Cumings, Mrs. John Bradley (Florence Briggs Th...</td>\n",
       "      <td>0</td>\n",
       "      <td>38.0</td>\n",
       "      <td>1</td>\n",
       "      <td>0</td>\n",
       "      <td>PC 17599</td>\n",
       "      <td>71.2833</td>\n",
       "      <td>72</td>\n",
       "      <td>C</td>\n",
       "    </tr>\n",
       "    <tr>\n",
       "      <th>3</th>\n",
       "      <td>4</td>\n",
       "      <td>1</td>\n",
       "      <td>1</td>\n",
       "      <td>Futrelle, Mrs. Jacques Heath (Lily May Peel)</td>\n",
       "      <td>0</td>\n",
       "      <td>35.0</td>\n",
       "      <td>1</td>\n",
       "      <td>0</td>\n",
       "      <td>113803</td>\n",
       "      <td>53.1000</td>\n",
       "      <td>48</td>\n",
       "      <td>S</td>\n",
       "    </tr>\n",
       "    <tr>\n",
       "      <th>6</th>\n",
       "      <td>7</td>\n",
       "      <td>0</td>\n",
       "      <td>1</td>\n",
       "      <td>McCarthy, Mr. Timothy J</td>\n",
       "      <td>1</td>\n",
       "      <td>54.0</td>\n",
       "      <td>0</td>\n",
       "      <td>0</td>\n",
       "      <td>17463</td>\n",
       "      <td>51.8625</td>\n",
       "      <td>117</td>\n",
       "      <td>S</td>\n",
       "    </tr>\n",
       "    <tr>\n",
       "      <th>10</th>\n",
       "      <td>11</td>\n",
       "      <td>1</td>\n",
       "      <td>3</td>\n",
       "      <td>Sandstrom, Miss. Marguerite Rut</td>\n",
       "      <td>0</td>\n",
       "      <td>4.0</td>\n",
       "      <td>1</td>\n",
       "      <td>1</td>\n",
       "      <td>PP 9549</td>\n",
       "      <td>16.7000</td>\n",
       "      <td>131</td>\n",
       "      <td>S</td>\n",
       "    </tr>\n",
       "    <tr>\n",
       "      <th>11</th>\n",
       "      <td>12</td>\n",
       "      <td>1</td>\n",
       "      <td>1</td>\n",
       "      <td>Bonnell, Miss. Elizabeth</td>\n",
       "      <td>0</td>\n",
       "      <td>58.0</td>\n",
       "      <td>0</td>\n",
       "      <td>0</td>\n",
       "      <td>113783</td>\n",
       "      <td>26.5500</td>\n",
       "      <td>43</td>\n",
       "      <td>S</td>\n",
       "    </tr>\n",
       "  </tbody>\n",
       "</table>\n",
       "</div>"
      ],
      "text/plain": [
       "    PassengerId  Survived  Pclass  \\\n",
       "1             2         1       1   \n",
       "3             4         1       1   \n",
       "6             7         0       1   \n",
       "10           11         1       3   \n",
       "11           12         1       1   \n",
       "\n",
       "                                                 Name Sex   Age  SibSp  Parch  \\\n",
       "1   Cumings, Mrs. John Bradley (Florence Briggs Th...   0  38.0      1      0   \n",
       "3        Futrelle, Mrs. Jacques Heath (Lily May Peel)   0  35.0      1      0   \n",
       "6                             McCarthy, Mr. Timothy J   1  54.0      0      0   \n",
       "10                    Sandstrom, Miss. Marguerite Rut   0   4.0      1      1   \n",
       "11                           Bonnell, Miss. Elizabeth   0  58.0      0      0   \n",
       "\n",
       "      Ticket     Fare Cabin Embarked  \n",
       "1   PC 17599  71.2833    72        C  \n",
       "3     113803  53.1000    48        S  \n",
       "6      17463  51.8625   117        S  \n",
       "10   PP 9549  16.7000   131        S  \n",
       "11    113783  26.5500    43        S  "
      ]
     },
     "execution_count": 39,
     "metadata": {},
     "output_type": "execute_result"
    }
   ],
   "source": [
    "ds.head(5)"
   ]
  },
  {
   "cell_type": "code",
   "execution_count": 40,
   "metadata": {},
   "outputs": [],
   "source": [
    "X=ds[features]\n",
    "y=ds[label]\n"
   ]
  },
  {
   "cell_type": "code",
   "execution_count": 41,
   "metadata": {},
   "outputs": [
    {
     "name": "stderr",
     "output_type": "stream",
     "text": [
      "C:\\Users\\Odin Revolution\\anaconda3\\lib\\site-packages\\ipykernel_launcher.py:1: SettingWithCopyWarning: \n",
      "A value is trying to be set on a copy of a slice from a DataFrame.\n",
      "Try using .loc[row_indexer,col_indexer] = value instead\n",
      "\n",
      "See the caveats in the documentation: https://pandas.pydata.org/pandas-docs/stable/user_guide/indexing.html#returning-a-view-versus-a-copy\n",
      "  \"\"\"Entry point for launching an IPython kernel.\n",
      "C:\\Users\\Odin Revolution\\anaconda3\\lib\\site-packages\\ipykernel_launcher.py:2: SettingWithCopyWarning: \n",
      "A value is trying to be set on a copy of a slice from a DataFrame.\n",
      "Try using .loc[row_indexer,col_indexer] = value instead\n",
      "\n",
      "See the caveats in the documentation: https://pandas.pydata.org/pandas-docs/stable/user_guide/indexing.html#returning-a-view-versus-a-copy\n",
      "  \n",
      "C:\\Users\\Odin Revolution\\anaconda3\\lib\\site-packages\\ipykernel_launcher.py:3: SettingWithCopyWarning: \n",
      "A value is trying to be set on a copy of a slice from a DataFrame.\n",
      "Try using .loc[row_indexer,col_indexer] = value instead\n",
      "\n",
      "See the caveats in the documentation: https://pandas.pydata.org/pandas-docs/stable/user_guide/indexing.html#returning-a-view-versus-a-copy\n",
      "  This is separate from the ipykernel package so we can avoid doing imports until\n",
      "C:\\Users\\Odin Revolution\\anaconda3\\lib\\site-packages\\ipykernel_launcher.py:4: SettingWithCopyWarning: \n",
      "A value is trying to be set on a copy of a slice from a DataFrame.\n",
      "Try using .loc[row_indexer,col_indexer] = value instead\n",
      "\n",
      "See the caveats in the documentation: https://pandas.pydata.org/pandas-docs/stable/user_guide/indexing.html#returning-a-view-versus-a-copy\n",
      "  after removing the cwd from sys.path.\n",
      "C:\\Users\\Odin Revolution\\anaconda3\\lib\\site-packages\\ipykernel_launcher.py:5: SettingWithCopyWarning: \n",
      "A value is trying to be set on a copy of a slice from a DataFrame.\n",
      "Try using .loc[row_indexer,col_indexer] = value instead\n",
      "\n",
      "See the caveats in the documentation: https://pandas.pydata.org/pandas-docs/stable/user_guide/indexing.html#returning-a-view-versus-a-copy\n",
      "  \"\"\"\n"
     ]
    }
   ],
   "source": [
    "X[\"SibSp\"]=X[\"SibSp\"].astype(\"float32\")\n",
    "X[\"Pclass\"]=X[\"Pclass\"].astype(\"float32\")\n",
    "X[\"Parch\"]=X[\"Parch\"].astype(\"float32\")\n",
    "X[\"Sex\"]=X[\"Sex\"].astype(\"float32\")\n",
    "X[\"Cabin\"]=X[\"Cabin\"].astype(\"float32\")"
   ]
  },
  {
   "cell_type": "code",
   "execution_count": 42,
   "metadata": {},
   "outputs": [
    {
     "data": {
      "text/plain": [
       "Pclass    float32\n",
       "Age       float64\n",
       "SibSp     float32\n",
       "Parch     float32\n",
       "Fare      float64\n",
       "Sex       float32\n",
       "Cabin     float32\n",
       "dtype: object"
      ]
     },
     "execution_count": 42,
     "metadata": {},
     "output_type": "execute_result"
    }
   ],
   "source": [
    "X.dtypes"
   ]
  },
  {
   "cell_type": "code",
   "execution_count": 43,
   "metadata": {},
   "outputs": [],
   "source": [
    "X_train,X_test,y_train,y_test=train_test_split(X,y)"
   ]
  },
  {
   "cell_type": "code",
   "execution_count": 44,
   "metadata": {},
   "outputs": [],
   "source": [
    "X_train=np.array(X_train)\n",
    "y_train=np.array(y_train)\n"
   ]
  },
  {
   "cell_type": "code",
   "execution_count": 45,
   "metadata": {},
   "outputs": [],
   "source": [
    "X_train=torch.from_numpy(X_train).float()\n",
    "y_train=torch.from_numpy(y_train).float()"
   ]
  },
  {
   "cell_type": "code",
   "execution_count": 46,
   "metadata": {},
   "outputs": [],
   "source": [
    "y_train=y_train.type(torch.LongTensor)"
   ]
  },
  {
   "cell_type": "code",
   "execution_count": 47,
   "metadata": {},
   "outputs": [],
   "source": [
    "from torch.utils.data import DataLoader\n",
    "from torch.utils.data import TensorDataset"
   ]
  },
  {
   "cell_type": "code",
   "execution_count": 48,
   "metadata": {},
   "outputs": [],
   "source": [
    "ts=TensorDataset(X_train,y_train)\n",
    "dl=DataLoader(ts,batch_size=40)"
   ]
  },
  {
   "cell_type": "code",
   "execution_count": 49,
   "metadata": {},
   "outputs": [],
   "source": [
    "class Mymodel(nn.Module):\n",
    "    def __init__(self):\n",
    "        super().__init__()\n",
    "        self.linear=nn.Linear(7,2)\n",
    "    def forward(self,xb):\n",
    "        xb=xb.reshape(-1,7)\n",
    "        out=self.linear(xb)\n",
    "        return out"
   ]
  },
  {
   "cell_type": "code",
   "execution_count": 50,
   "metadata": {},
   "outputs": [],
   "source": [
    "model=Mymodel()"
   ]
  },
  {
   "cell_type": "code",
   "execution_count": 51,
   "metadata": {},
   "outputs": [],
   "source": [
    "optim=torch.optim.SGD(model.parameters(),lr=0.01)\n",
    "loss=nn.functional.cross_entropy"
   ]
  },
  {
   "cell_type": "code",
   "execution_count": 52,
   "metadata": {},
   "outputs": [
    {
     "ename": "NameError",
     "evalue": "name 'l' is not defined",
     "output_type": "error",
     "traceback": [
      "\u001b[1;31m-------------------------------------------------------------------\u001b[0m",
      "\u001b[1;31mNameError\u001b[0m                         Traceback (most recent call last)",
      "\u001b[1;32m<ipython-input-52-97cbfba2d4ec>\u001b[0m in \u001b[0;36m<module>\u001b[1;34m\u001b[0m\n\u001b[1;32m----> 1\u001b[1;33m \u001b[0ml\u001b[0m\u001b[1;33m.\u001b[0m\u001b[0mshape\u001b[0m\u001b[1;33m\u001b[0m\u001b[1;33m\u001b[0m\u001b[0m\n\u001b[0m\u001b[0;32m      2\u001b[0m \u001b[1;33m\u001b[0m\u001b[0m\n",
      "\u001b[1;31mNameError\u001b[0m: name 'l' is not defined"
     ]
    }
   ],
   "source": [
    "l.shape\n",
    "\n"
   ]
  },
  {
   "cell_type": "code",
   "execution_count": 129,
   "metadata": {},
   "outputs": [
    {
     "name": "stdout",
     "output_type": "stream",
     "text": [
      "tensor(2.6432, grad_fn=<NllLossBackward>)\n",
      "tensor(2.0499, grad_fn=<NllLossBackward>)\n",
      "tensor(4.9909, grad_fn=<NllLossBackward>)\n",
      "tensor(19.9922, grad_fn=<NllLossBackward>)\n",
      "tensor(31.4644, grad_fn=<NllLossBackward>)\n",
      "tensor(12.7671, grad_fn=<NllLossBackward>)\n",
      "tensor(7.9847, grad_fn=<NllLossBackward>)\n",
      "tensor(7.5442, grad_fn=<NllLossBackward>)\n",
      "tensor(10.8697, grad_fn=<NllLossBackward>)\n",
      "tensor(11.0278, grad_fn=<NllLossBackward>)\n",
      "tensor(8.2889, grad_fn=<NllLossBackward>)\n",
      "tensor(12.1606, grad_fn=<NllLossBackward>)\n",
      "tensor(6.8710, grad_fn=<NllLossBackward>)\n",
      "tensor(11.7736, grad_fn=<NllLossBackward>)\n",
      "tensor(7.1160, grad_fn=<NllLossBackward>)\n",
      "tensor(14.9861, grad_fn=<NllLossBackward>)\n",
      "tensor(4.1557, grad_fn=<NllLossBackward>)\n",
      "tensor(8.7016, grad_fn=<NllLossBackward>)\n",
      "tensor(10.8437, grad_fn=<NllLossBackward>)\n",
      "tensor(16.1908, grad_fn=<NllLossBackward>)\n",
      "tensor(3.2581, grad_fn=<NllLossBackward>)\n",
      "tensor(6.7150, grad_fn=<NllLossBackward>)\n",
      "tensor(13.7205, grad_fn=<NllLossBackward>)\n",
      "tensor(23.3416, grad_fn=<NllLossBackward>)\n",
      "tensor(5.0243, grad_fn=<NllLossBackward>)\n",
      "tensor(6.2422, grad_fn=<NllLossBackward>)\n",
      "tensor(11.6703, grad_fn=<NllLossBackward>)\n",
      "tensor(7.1990, grad_fn=<NllLossBackward>)\n",
      "tensor(15.3904, grad_fn=<NllLossBackward>)\n",
      "tensor(3.7288, grad_fn=<NllLossBackward>)\n",
      "tensor(8.6894, grad_fn=<NllLossBackward>)\n",
      "tensor(11.0266, grad_fn=<NllLossBackward>)\n",
      "tensor(17.5299, grad_fn=<NllLossBackward>)\n",
      "tensor(2.7415, grad_fn=<NllLossBackward>)\n",
      "tensor(2.6238, grad_fn=<NllLossBackward>)\n",
      "tensor(11.6761, grad_fn=<NllLossBackward>)\n",
      "tensor(24.9230, grad_fn=<NllLossBackward>)\n",
      "tensor(6.2301, grad_fn=<NllLossBackward>)\n",
      "tensor(13.6453, grad_fn=<NllLossBackward>)\n",
      "tensor(12.2436, grad_fn=<NllLossBackward>)\n",
      "tensor(6.9230, grad_fn=<NllLossBackward>)\n",
      "tensor(10.1127, grad_fn=<NllLossBackward>)\n",
      "tensor(9.0967, grad_fn=<NllLossBackward>)\n",
      "tensor(14.0138, grad_fn=<NllLossBackward>)\n",
      "tensor(4.8807, grad_fn=<NllLossBackward>)\n",
      "tensor(9.9091, grad_fn=<NllLossBackward>)\n",
      "tensor(9.3692, grad_fn=<NllLossBackward>)\n",
      "tensor(15.3921, grad_fn=<NllLossBackward>)\n",
      "tensor(3.5959, grad_fn=<NllLossBackward>)\n",
      "tensor(9.4145, grad_fn=<NllLossBackward>)\n",
      "tensor(10.1437, grad_fn=<NllLossBackward>)\n",
      "tensor(17.6757, grad_fn=<NllLossBackward>)\n",
      "tensor(2.5261, grad_fn=<NllLossBackward>)\n",
      "tensor(2.0211, grad_fn=<NllLossBackward>)\n",
      "tensor(4.1019, grad_fn=<NllLossBackward>)\n",
      "tensor(14.9721, grad_fn=<NllLossBackward>)\n",
      "tensor(3.5074, grad_fn=<NllLossBackward>)\n",
      "tensor(14.1128, grad_fn=<NllLossBackward>)\n",
      "tensor(4.3563, grad_fn=<NllLossBackward>)\n",
      "tensor(15.6088, grad_fn=<NllLossBackward>)\n",
      "tensor(2.8776, grad_fn=<NllLossBackward>)\n",
      "tensor(13.9219, grad_fn=<NllLossBackward>)\n",
      "tensor(4.5261, grad_fn=<NllLossBackward>)\n",
      "tensor(15.8418, grad_fn=<NllLossBackward>)\n",
      "tensor(2.6459, grad_fn=<NllLossBackward>)\n",
      "tensor(13.1677, grad_fn=<NllLossBackward>)\n",
      "tensor(5.3910, grad_fn=<NllLossBackward>)\n",
      "tensor(17.6990, grad_fn=<NllLossBackward>)\n",
      "tensor(1.6015, grad_fn=<NllLossBackward>)\n",
      "tensor(2.8637, grad_fn=<NllLossBackward>)\n",
      "tensor(25.9225, grad_fn=<NllLossBackward>)\n",
      "tensor(30.1131, grad_fn=<NllLossBackward>)\n",
      "tensor(11.4158, grad_fn=<NllLossBackward>)\n",
      "tensor(8.8090, grad_fn=<NllLossBackward>)\n",
      "tensor(7.9080, grad_fn=<NllLossBackward>)\n",
      "tensor(11.2912, grad_fn=<NllLossBackward>)\n",
      "tensor(10.9232, grad_fn=<NllLossBackward>)\n",
      "tensor(8.4157, grad_fn=<NllLossBackward>)\n",
      "tensor(12.2552, grad_fn=<NllLossBackward>)\n",
      "tensor(6.7721, grad_fn=<NllLossBackward>)\n",
      "tensor(11.4770, grad_fn=<NllLossBackward>)\n",
      "tensor(7.4310, grad_fn=<NllLossBackward>)\n",
      "tensor(15.0842, grad_fn=<NllLossBackward>)\n",
      "tensor(3.9437, grad_fn=<NllLossBackward>)\n",
      "tensor(9.0201, grad_fn=<NllLossBackward>)\n",
      "tensor(10.6545, grad_fn=<NllLossBackward>)\n",
      "tensor(17.1541, grad_fn=<NllLossBackward>)\n",
      "tensor(2.7031, grad_fn=<NllLossBackward>)\n",
      "tensor(3.7886, grad_fn=<NllLossBackward>)\n",
      "tensor(18.8457, grad_fn=<NllLossBackward>)\n",
      "tensor(29.0802, grad_fn=<NllLossBackward>)\n",
      "tensor(10.3888, grad_fn=<NllLossBackward>)\n",
      "tensor(9.6051, grad_fn=<NllLossBackward>)\n",
      "tensor(8.0328, grad_fn=<NllLossBackward>)\n",
      "tensor(10.2244, grad_fn=<NllLossBackward>)\n",
      "tensor(10.9380, grad_fn=<NllLossBackward>)\n",
      "tensor(8.4354, grad_fn=<NllLossBackward>)\n",
      "tensor(11.8441, grad_fn=<NllLossBackward>)\n",
      "tensor(7.2319, grad_fn=<NllLossBackward>)\n",
      "tensor(12.2966, grad_fn=<NllLossBackward>)\n",
      "tensor(6.5638, grad_fn=<NllLossBackward>)\n",
      "tensor(13.3691, grad_fn=<NllLossBackward>)\n",
      "tensor(5.3834, grad_fn=<NllLossBackward>)\n",
      "tensor(11.0588, grad_fn=<NllLossBackward>)\n",
      "tensor(7.9072, grad_fn=<NllLossBackward>)\n",
      "tensor(15.0137, grad_fn=<NllLossBackward>)\n",
      "tensor(3.8746, grad_fn=<NllLossBackward>)\n",
      "tensor(10.1398, grad_fn=<NllLossBackward>)\n",
      "tensor(9.1116, grad_fn=<NllLossBackward>)\n",
      "tensor(16.2849, grad_fn=<NllLossBackward>)\n",
      "tensor(2.8614, grad_fn=<NllLossBackward>)\n",
      "tensor(7.7094, grad_fn=<NllLossBackward>)\n",
      "tensor(13.1220, grad_fn=<NllLossBackward>)\n",
      "tensor(25.8647, grad_fn=<NllLossBackward>)\n",
      "tensor(7.1691, grad_fn=<NllLossBackward>)\n",
      "tensor(12.6087, grad_fn=<NllLossBackward>)\n",
      "tensor(11.4126, grad_fn=<NllLossBackward>)\n",
      "tensor(7.8190, grad_fn=<NllLossBackward>)\n",
      "tensor(11.9143, grad_fn=<NllLossBackward>)\n",
      "tensor(7.0493, grad_fn=<NllLossBackward>)\n",
      "tensor(13.2809, grad_fn=<NllLossBackward>)\n",
      "tensor(5.5372, grad_fn=<NllLossBackward>)\n",
      "tensor(10.9987, grad_fn=<NllLossBackward>)\n",
      "tensor(7.9787, grad_fn=<NllLossBackward>)\n",
      "tensor(14.9688, grad_fn=<NllLossBackward>)\n",
      "tensor(3.9133, grad_fn=<NllLossBackward>)\n",
      "tensor(10.1641, grad_fn=<NllLossBackward>)\n",
      "tensor(9.0750, grad_fn=<NllLossBackward>)\n",
      "tensor(16.2135, grad_fn=<NllLossBackward>)\n",
      "tensor(2.9024, grad_fn=<NllLossBackward>)\n",
      "tensor(7.9260, grad_fn=<NllLossBackward>)\n",
      "tensor(12.7860, grad_fn=<NllLossBackward>)\n",
      "tensor(25.7492, grad_fn=<NllLossBackward>)\n",
      "tensor(7.0538, grad_fn=<NllLossBackward>)\n",
      "tensor(12.7450, grad_fn=<NllLossBackward>)\n",
      "tensor(11.6250, grad_fn=<NllLossBackward>)\n",
      "tensor(7.5869, grad_fn=<NllLossBackward>)\n",
      "tensor(11.4051, grad_fn=<NllLossBackward>)\n",
      "tensor(7.5938, grad_fn=<NllLossBackward>)\n",
      "tensor(14.2161, grad_fn=<NllLossBackward>)\n",
      "tensor(4.8333, grad_fn=<NllLossBackward>)\n",
      "tensor(9.1615, grad_fn=<NllLossBackward>)\n",
      "tensor(10.2495, grad_fn=<NllLossBackward>)\n",
      "tensor(14.8530, grad_fn=<NllLossBackward>)\n",
      "tensor(4.1065, grad_fn=<NllLossBackward>)\n",
      "tensor(9.6651, grad_fn=<NllLossBackward>)\n",
      "tensor(9.6877, grad_fn=<NllLossBackward>)\n",
      "tensor(15.8224, grad_fn=<NllLossBackward>)\n",
      "tensor(3.2433, grad_fn=<NllLossBackward>)\n",
      "tensor(8.6195, grad_fn=<NllLossBackward>)\n",
      "tensor(11.4129, grad_fn=<NllLossBackward>)\n",
      "tensor(22.8559, grad_fn=<NllLossBackward>)\n",
      "tensor(4.4296, grad_fn=<NllLossBackward>)\n",
      "tensor(7.7857, grad_fn=<NllLossBackward>)\n",
      "tensor(14.9406, grad_fn=<NllLossBackward>)\n",
      "tensor(4.0865, grad_fn=<NllLossBackward>)\n",
      "tensor(9.0780, grad_fn=<NllLossBackward>)\n",
      "tensor(10.4978, grad_fn=<NllLossBackward>)\n",
      "tensor(16.3935, grad_fn=<NllLossBackward>)\n",
      "tensor(3.0160, grad_fn=<NllLossBackward>)\n",
      "tensor(6.5827, grad_fn=<NllLossBackward>)\n",
      "tensor(14.6308, grad_fn=<NllLossBackward>)\n",
      "tensor(24.8117, grad_fn=<NllLossBackward>)\n",
      "tensor(6.2207, grad_fn=<NllLossBackward>)\n",
      "tensor(9.8123, grad_fn=<NllLossBackward>)\n",
      "tensor(12.8261, grad_fn=<NllLossBackward>)\n",
      "tensor(6.3346, grad_fn=<NllLossBackward>)\n",
      "tensor(9.4947, grad_fn=<NllLossBackward>)\n",
      "tensor(9.8205, grad_fn=<NllLossBackward>)\n",
      "tensor(14.0455, grad_fn=<NllLossBackward>)\n",
      "tensor(4.8355, grad_fn=<NllLossBackward>)\n",
      "tensor(9.6686, grad_fn=<NllLossBackward>)\n",
      "tensor(9.6414, grad_fn=<NllLossBackward>)\n",
      "tensor(15.2243, grad_fn=<NllLossBackward>)\n",
      "tensor(3.7587, grad_fn=<NllLossBackward>)\n",
      "tensor(9.4870, grad_fn=<NllLossBackward>)\n",
      "tensor(9.9684, grad_fn=<NllLossBackward>)\n",
      "tensor(16.9643, grad_fn=<NllLossBackward>)\n",
      "tensor(2.6837, grad_fn=<NllLossBackward>)\n",
      "tensor(4.8597, grad_fn=<NllLossBackward>)\n",
      "tensor(17.6194, grad_fn=<NllLossBackward>)\n",
      "tensor(26.1823, grad_fn=<NllLossBackward>)\n",
      "tensor(7.5327, grad_fn=<NllLossBackward>)\n",
      "tensor(10.2102, grad_fn=<NllLossBackward>)\n",
      "tensor(11.1074, grad_fn=<NllLossBackward>)\n",
      "tensor(8.1679, grad_fn=<NllLossBackward>)\n",
      "tensor(12.2118, grad_fn=<NllLossBackward>)\n",
      "tensor(6.7970, grad_fn=<NllLossBackward>)\n",
      "tensor(11.6839, grad_fn=<NllLossBackward>)\n",
      "tensor(7.2061, grad_fn=<NllLossBackward>)\n",
      "tensor(15.0384, grad_fn=<NllLossBackward>)\n",
      "tensor(4.1350, grad_fn=<NllLossBackward>)\n",
      "tensor(8.4966, grad_fn=<NllLossBackward>)\n",
      "tensor(10.9322, grad_fn=<NllLossBackward>)\n",
      "tensor(16.1049, grad_fn=<NllLossBackward>)\n",
      "tensor(3.3198, grad_fn=<NllLossBackward>)\n",
      "tensor(6.8511, grad_fn=<NllLossBackward>)\n",
      "tensor(13.3654, grad_fn=<NllLossBackward>)\n",
      "tensor(23.0423, grad_fn=<NllLossBackward>)\n",
      "tensor(4.8252, grad_fn=<NllLossBackward>)\n",
      "tensor(5.4195, grad_fn=<NllLossBackward>)\n",
      "tensor(10.2768, grad_fn=<NllLossBackward>)\n",
      "tensor(8.8584, grad_fn=<NllLossBackward>)\n",
      "tensor(15.1965, grad_fn=<NllLossBackward>)\n",
      "tensor(3.7907, grad_fn=<NllLossBackward>)\n",
      "tensor(9.4647, grad_fn=<NllLossBackward>)\n",
      "tensor(9.9819, grad_fn=<NllLossBackward>)\n",
      "tensor(16.8437, grad_fn=<NllLossBackward>)\n",
      "tensor(2.7348, grad_fn=<NllLossBackward>)\n",
      "tensor(5.3270, grad_fn=<NllLossBackward>)\n",
      "tensor(16.8268, grad_fn=<NllLossBackward>)\n",
      "tensor(24.7928, grad_fn=<NllLossBackward>)\n",
      "tensor(6.2380, grad_fn=<NllLossBackward>)\n",
      "tensor(9.0672, grad_fn=<NllLossBackward>)\n",
      "tensor(12.7843, grad_fn=<NllLossBackward>)\n",
      "tensor(6.3006, grad_fn=<NllLossBackward>)\n",
      "tensor(9.7781, grad_fn=<NllLossBackward>)\n",
      "tensor(9.4652, grad_fn=<NllLossBackward>)\n",
      "tensor(14.0114, grad_fn=<NllLossBackward>)\n",
      "tensor(4.8256, grad_fn=<NllLossBackward>)\n",
      "tensor(9.8939, grad_fn=<NllLossBackward>)\n",
      "tensor(9.3512, grad_fn=<NllLossBackward>)\n",
      "tensor(15.3908, grad_fn=<NllLossBackward>)\n"
     ]
    },
    {
     "name": "stdout",
     "output_type": "stream",
     "text": [
      "tensor(3.6202, grad_fn=<NllLossBackward>)\n",
      "tensor(9.2280, grad_fn=<NllLossBackward>)\n",
      "tensor(10.3241, grad_fn=<NllLossBackward>)\n",
      "tensor(17.6398, grad_fn=<NllLossBackward>)\n",
      "tensor(2.5817, grad_fn=<NllLossBackward>)\n",
      "tensor(2.1300, grad_fn=<NllLossBackward>)\n",
      "tensor(5.1359, grad_fn=<NllLossBackward>)\n",
      "tensor(16.7900, grad_fn=<NllLossBackward>)\n",
      "tensor(2.0474, grad_fn=<NllLossBackward>)\n",
      "tensor(8.1353, grad_fn=<NllLossBackward>)\n",
      "tensor(14.3847, grad_fn=<NllLossBackward>)\n",
      "tensor(31.3573, grad_fn=<NllLossBackward>)\n",
      "tensor(12.6600, grad_fn=<NllLossBackward>)\n",
      "tensor(7.5143, grad_fn=<NllLossBackward>)\n",
      "tensor(7.6625, grad_fn=<NllLossBackward>)\n",
      "tensor(12.0983, grad_fn=<NllLossBackward>)\n",
      "tensor(11.5799, grad_fn=<NllLossBackward>)\n",
      "tensor(7.6307, grad_fn=<NllLossBackward>)\n",
      "tensor(11.4891, grad_fn=<NllLossBackward>)\n",
      "tensor(7.4848, grad_fn=<NllLossBackward>)\n",
      "tensor(14.1636, grad_fn=<NllLossBackward>)\n",
      "tensor(4.8375, grad_fn=<NllLossBackward>)\n",
      "tensor(9.3918, grad_fn=<NllLossBackward>)\n",
      "tensor(9.9889, grad_fn=<NllLossBackward>)\n",
      "tensor(14.9829, grad_fn=<NllLossBackward>)\n",
      "tensor(3.9523, grad_fn=<NllLossBackward>)\n",
      "tensor(9.7401, grad_fn=<NllLossBackward>)\n",
      "tensor(9.6117, grad_fn=<NllLossBackward>)\n",
      "tensor(16.0684, grad_fn=<NllLossBackward>)\n",
      "tensor(3.0361, grad_fn=<NllLossBackward>)\n",
      "tensor(8.1789, grad_fn=<NllLossBackward>)\n",
      "tensor(12.3545, grad_fn=<NllLossBackward>)\n",
      "tensor(24.7066, grad_fn=<NllLossBackward>)\n",
      "tensor(6.0253, grad_fn=<NllLossBackward>)\n",
      "tensor(13.2262, grad_fn=<NllLossBackward>)\n",
      "tensor(12.1972, grad_fn=<NllLossBackward>)\n",
      "tensor(6.9443, grad_fn=<NllLossBackward>)\n",
      "tensor(10.1845, grad_fn=<NllLossBackward>)\n",
      "tensor(8.9973, grad_fn=<NllLossBackward>)\n",
      "tensor(14.0255, grad_fn=<NllLossBackward>)\n",
      "tensor(4.9023, grad_fn=<NllLossBackward>)\n",
      "tensor(9.4992, grad_fn=<NllLossBackward>)\n",
      "tensor(9.8386, grad_fn=<NllLossBackward>)\n",
      "tensor(15.0449, grad_fn=<NllLossBackward>)\n",
      "tensor(3.9176, grad_fn=<NllLossBackward>)\n",
      "tensor(9.6139, grad_fn=<NllLossBackward>)\n",
      "tensor(9.7658, grad_fn=<NllLossBackward>)\n",
      "tensor(16.2274, grad_fn=<NllLossBackward>)\n",
      "tensor(2.9804, grad_fn=<NllLossBackward>)\n",
      "tensor(7.5151, grad_fn=<NllLossBackward>)\n",
      "tensor(13.2091, grad_fn=<NllLossBackward>)\n",
      "tensor(25.0343, grad_fn=<NllLossBackward>)\n",
      "tensor(6.3539, grad_fn=<NllLossBackward>)\n",
      "tensor(12.5806, grad_fn=<NllLossBackward>)\n",
      "tensor(11.8656, grad_fn=<NllLossBackward>)\n",
      "tensor(7.3053, grad_fn=<NllLossBackward>)\n",
      "tensor(10.8489, grad_fn=<NllLossBackward>)\n",
      "tensor(8.2149, grad_fn=<NllLossBackward>)\n",
      "tensor(14.4550, grad_fn=<NllLossBackward>)\n",
      "tensor(4.6533, grad_fn=<NllLossBackward>)\n",
      "tensor(8.8015, grad_fn=<NllLossBackward>)\n",
      "tensor(10.6795, grad_fn=<NllLossBackward>)\n",
      "tensor(14.8552, grad_fn=<NllLossBackward>)\n",
      "tensor(4.1005, grad_fn=<NllLossBackward>)\n",
      "tensor(9.6227, grad_fn=<NllLossBackward>)\n",
      "tensor(9.7340, grad_fn=<NllLossBackward>)\n",
      "tensor(15.7638, grad_fn=<NllLossBackward>)\n",
      "tensor(3.2693, grad_fn=<NllLossBackward>)\n",
      "tensor(8.8293, grad_fn=<NllLossBackward>)\n",
      "tensor(11.0848, grad_fn=<NllLossBackward>)\n",
      "tensor(22.0213, grad_fn=<NllLossBackward>)\n",
      "tensor(3.8851, grad_fn=<NllLossBackward>)\n",
      "tensor(4.7189, grad_fn=<NllLossBackward>)\n",
      "tensor(11.6070, grad_fn=<NllLossBackward>)\n",
      "tensor(7.2064, grad_fn=<NllLossBackward>)\n",
      "tensor(16.0741, grad_fn=<NllLossBackward>)\n",
      "tensor(2.9485, grad_fn=<NllLossBackward>)\n",
      "tensor(8.6812, grad_fn=<NllLossBackward>)\n",
      "tensor(11.8045, grad_fn=<NllLossBackward>)\n",
      "tensor(25.2429, grad_fn=<NllLossBackward>)\n",
      "tensor(6.5479, grad_fn=<NllLossBackward>)\n",
      "tensor(13.3791, grad_fn=<NllLossBackward>)\n",
      "tensor(12.1287, grad_fn=<NllLossBackward>)\n",
      "tensor(7.0177, grad_fn=<NllLossBackward>)\n",
      "tensor(10.2777, grad_fn=<NllLossBackward>)\n",
      "tensor(8.8813, grad_fn=<NllLossBackward>)\n",
      "tensor(14.1018, grad_fn=<NllLossBackward>)\n",
      "tensor(4.8367, grad_fn=<NllLossBackward>)\n",
      "tensor(9.4834, grad_fn=<NllLossBackward>)\n",
      "tensor(9.8712, grad_fn=<NllLossBackward>)\n",
      "tensor(15.0451, grad_fn=<NllLossBackward>)\n",
      "tensor(3.8878, grad_fn=<NllLossBackward>)\n",
      "tensor(9.7359, grad_fn=<NllLossBackward>)\n",
      "tensor(9.6189, grad_fn=<NllLossBackward>)\n",
      "tensor(16.2025, grad_fn=<NllLossBackward>)\n",
      "tensor(2.9470, grad_fn=<NllLossBackward>)\n",
      "tensor(7.7891, grad_fn=<NllLossBackward>)\n",
      "tensor(13.0274, grad_fn=<NllLossBackward>)\n",
      "tensor(25.4116, grad_fn=<NllLossBackward>)\n",
      "tensor(6.7200, grad_fn=<NllLossBackward>)\n",
      "tensor(12.8468, grad_fn=<NllLossBackward>)\n",
      "tensor(11.7248, grad_fn=<NllLossBackward>)\n",
      "tensor(7.4893, grad_fn=<NllLossBackward>)\n",
      "tensor(10.8275, grad_fn=<NllLossBackward>)\n",
      "tensor(8.2473, grad_fn=<NllLossBackward>)\n",
      "tensor(14.3219, grad_fn=<NllLossBackward>)\n",
      "tensor(4.7859, grad_fn=<NllLossBackward>)\n",
      "tensor(8.8588, grad_fn=<NllLossBackward>)\n",
      "tensor(10.5982, grad_fn=<NllLossBackward>)\n",
      "tensor(14.7013, grad_fn=<NllLossBackward>)\n",
      "tensor(4.2259, grad_fn=<NllLossBackward>)\n",
      "tensor(9.7313, grad_fn=<NllLossBackward>)\n",
      "tensor(9.5795, grad_fn=<NllLossBackward>)\n",
      "tensor(15.5918, grad_fn=<NllLossBackward>)\n",
      "tensor(3.3856, grad_fn=<NllLossBackward>)\n",
      "tensor(9.2828, grad_fn=<NllLossBackward>)\n",
      "tensor(10.3460, grad_fn=<NllLossBackward>)\n",
      "tensor(18.9737, grad_fn=<NllLossBackward>)\n",
      "tensor(2.6831, grad_fn=<NllLossBackward>)\n",
      "tensor(2.0914, grad_fn=<NllLossBackward>)\n",
      "tensor(3.8527, grad_fn=<NllLossBackward>)\n",
      "tensor(20.5192, grad_fn=<NllLossBackward>)\n",
      "tensor(31.0676, grad_fn=<NllLossBackward>)\n",
      "tensor(12.3702, grad_fn=<NllLossBackward>)\n",
      "tensor(8.2874, grad_fn=<NllLossBackward>)\n",
      "tensor(7.2221, grad_fn=<NllLossBackward>)\n",
      "tensor(10.0345, grad_fn=<NllLossBackward>)\n",
      "tensor(11.4035, grad_fn=<NllLossBackward>)\n",
      "tensor(7.8038, grad_fn=<NllLossBackward>)\n",
      "tensor(11.9294, grad_fn=<NllLossBackward>)\n",
      "tensor(7.0233, grad_fn=<NllLossBackward>)\n",
      "tensor(13.1080, grad_fn=<NllLossBackward>)\n",
      "tensor(5.6916, grad_fn=<NllLossBackward>)\n",
      "tensor(11.1519, grad_fn=<NllLossBackward>)\n",
      "tensor(7.7806, grad_fn=<NllLossBackward>)\n",
      "tensor(15.0091, grad_fn=<NllLossBackward>)\n",
      "tensor(3.9277, grad_fn=<NllLossBackward>)\n",
      "tensor(9.7978, grad_fn=<NllLossBackward>)\n",
      "tensor(9.4842, grad_fn=<NllLossBackward>)\n",
      "tensor(16.1539, grad_fn=<NllLossBackward>)\n",
      "tensor(3.0029, grad_fn=<NllLossBackward>)\n",
      "tensor(7.7457, grad_fn=<NllLossBackward>)\n",
      "tensor(12.6458, grad_fn=<NllLossBackward>)\n",
      "tensor(24.7952, grad_fn=<NllLossBackward>)\n",
      "tensor(6.1154, grad_fn=<NllLossBackward>)\n",
      "tensor(13.0001, grad_fn=<NllLossBackward>)\n",
      "tensor(12.1968, grad_fn=<NllLossBackward>)\n",
      "tensor(6.9662, grad_fn=<NllLossBackward>)\n",
      "tensor(9.9292, grad_fn=<NllLossBackward>)\n",
      "tensor(9.2958, grad_fn=<NllLossBackward>)\n",
      "tensor(13.7906, grad_fn=<NllLossBackward>)\n",
      "tensor(5.1014, grad_fn=<NllLossBackward>)\n",
      "tensor(9.6270, grad_fn=<NllLossBackward>)\n",
      "tensor(9.6514, grad_fn=<NllLossBackward>)\n",
      "tensor(15.0533, grad_fn=<NllLossBackward>)\n",
      "tensor(3.9334, grad_fn=<NllLossBackward>)\n",
      "tensor(9.4588, grad_fn=<NllLossBackward>)\n",
      "tensor(9.9319, grad_fn=<NllLossBackward>)\n",
      "tensor(16.2240, grad_fn=<NllLossBackward>)\n",
      "tensor(3.0189, grad_fn=<NllLossBackward>)\n",
      "tensor(7.3488, grad_fn=<NllLossBackward>)\n",
      "tensor(13.2296, grad_fn=<NllLossBackward>)\n",
      "tensor(24.6013, grad_fn=<NllLossBackward>)\n",
      "tensor(5.9460, grad_fn=<NllLossBackward>)\n",
      "tensor(11.8606, grad_fn=<NllLossBackward>)\n",
      "tensor(12.0923, grad_fn=<NllLossBackward>)\n",
      "tensor(6.9710, grad_fn=<NllLossBackward>)\n",
      "tensor(11.1069, grad_fn=<NllLossBackward>)\n",
      "tensor(7.8780, grad_fn=<NllLossBackward>)\n",
      "tensor(14.7733, grad_fn=<NllLossBackward>)\n",
      "tensor(4.3356, grad_fn=<NllLossBackward>)\n",
      "tensor(8.7456, grad_fn=<NllLossBackward>)\n",
      "tensor(10.7701, grad_fn=<NllLossBackward>)\n",
      "tensor(15.5027, grad_fn=<NllLossBackward>)\n",
      "tensor(3.6192, grad_fn=<NllLossBackward>)\n",
      "tensor(8.5190, grad_fn=<NllLossBackward>)\n",
      "tensor(11.2383, grad_fn=<NllLossBackward>)\n",
      "tensor(18.0770, grad_fn=<NllLossBackward>)\n",
      "tensor(2.7559, grad_fn=<NllLossBackward>)\n",
      "tensor(2.0777, grad_fn=<NllLossBackward>)\n",
      "tensor(1.5572, grad_fn=<NllLossBackward>)\n",
      "tensor(1.2728, grad_fn=<NllLossBackward>)\n",
      "tensor(1.0919, grad_fn=<NllLossBackward>)\n",
      "tensor(1.6613, grad_fn=<NllLossBackward>)\n",
      "tensor(21.6342, grad_fn=<NllLossBackward>)\n",
      "tensor(32.2505, grad_fn=<NllLossBackward>)\n",
      "tensor(13.5531, grad_fn=<NllLossBackward>)\n",
      "tensor(7.0603, grad_fn=<NllLossBackward>)\n",
      "tensor(8.2736, grad_fn=<NllLossBackward>)\n",
      "tensor(11.4104, grad_fn=<NllLossBackward>)\n",
      "tensor(11.3848, grad_fn=<NllLossBackward>)\n",
      "tensor(7.8498, grad_fn=<NllLossBackward>)\n",
      "tensor(12.2237, grad_fn=<NllLossBackward>)\n",
      "tensor(6.7087, grad_fn=<NllLossBackward>)\n",
      "tensor(12.3390, grad_fn=<NllLossBackward>)\n",
      "tensor(6.3789, grad_fn=<NllLossBackward>)\n",
      "tensor(14.6629, grad_fn=<NllLossBackward>)\n",
      "tensor(4.0722, grad_fn=<NllLossBackward>)\n",
      "tensor(10.1000, grad_fn=<NllLossBackward>)\n",
      "tensor(9.1894, grad_fn=<NllLossBackward>)\n",
      "tensor(16.2164, grad_fn=<NllLossBackward>)\n",
      "tensor(2.7455, grad_fn=<NllLossBackward>)\n",
      "tensor(8.8547, grad_fn=<NllLossBackward>)\n",
      "tensor(11.9036, grad_fn=<NllLossBackward>)\n",
      "tensor(26.6426, grad_fn=<NllLossBackward>)\n",
      "tensor(7.9453, grad_fn=<NllLossBackward>)\n",
      "tensor(11.7465, grad_fn=<NllLossBackward>)\n",
      "tensor(11.9950, grad_fn=<NllLossBackward>)\n"
     ]
    },
    {
     "name": "stdout",
     "output_type": "stream",
     "text": [
      "tensor(7.1892, grad_fn=<NllLossBackward>)\n",
      "tensor(10.3528, grad_fn=<NllLossBackward>)\n",
      "tensor(8.7794, grad_fn=<NllLossBackward>)\n",
      "tensor(14.1255, grad_fn=<NllLossBackward>)\n",
      "tensor(4.8270, grad_fn=<NllLossBackward>)\n",
      "tensor(9.8949, grad_fn=<NllLossBackward>)\n",
      "tensor(9.3605, grad_fn=<NllLossBackward>)\n",
      "tensor(15.3596, grad_fn=<NllLossBackward>)\n",
      "tensor(3.5706, grad_fn=<NllLossBackward>)\n",
      "tensor(9.6251, grad_fn=<NllLossBackward>)\n",
      "tensor(9.8218, grad_fn=<NllLossBackward>)\n",
      "tensor(17.3852, grad_fn=<NllLossBackward>)\n",
      "tensor(2.4765, grad_fn=<NllLossBackward>)\n",
      "tensor(2.7070, grad_fn=<NllLossBackward>)\n",
      "tensor(16.1445, grad_fn=<NllLossBackward>)\n",
      "tensor(25.6717, grad_fn=<NllLossBackward>)\n",
      "tensor(7.0057, grad_fn=<NllLossBackward>)\n",
      "tensor(11.0860, grad_fn=<NllLossBackward>)\n",
      "tensor(11.7210, grad_fn=<NllLossBackward>)\n",
      "tensor(7.4874, grad_fn=<NllLossBackward>)\n",
      "tensor(10.8954, grad_fn=<NllLossBackward>)\n",
      "tensor(8.1476, grad_fn=<NllLossBackward>)\n",
      "tensor(14.3405, grad_fn=<NllLossBackward>)\n",
      "tensor(4.7218, grad_fn=<NllLossBackward>)\n",
      "tensor(9.2336, grad_fn=<NllLossBackward>)\n",
      "tensor(10.1898, grad_fn=<NllLossBackward>)\n",
      "tensor(14.9097, grad_fn=<NllLossBackward>)\n",
      "tensor(3.9700, grad_fn=<NllLossBackward>)\n",
      "tensor(9.9039, grad_fn=<NllLossBackward>)\n",
      "tensor(9.3871, grad_fn=<NllLossBackward>)\n",
      "tensor(15.9026, grad_fn=<NllLossBackward>)\n",
      "tensor(3.0750, grad_fn=<NllLossBackward>)\n",
      "tensor(9.0174, grad_fn=<NllLossBackward>)\n",
      "tensor(11.0117, grad_fn=<NllLossBackward>)\n",
      "tensor(23.8508, grad_fn=<NllLossBackward>)\n",
      "tensor(5.1971, grad_fn=<NllLossBackward>)\n",
      "tensor(13.2390, grad_fn=<NllLossBackward>)\n",
      "tensor(12.9503, grad_fn=<NllLossBackward>)\n",
      "tensor(6.0964, grad_fn=<NllLossBackward>)\n",
      "tensor(9.7299, grad_fn=<NllLossBackward>)\n",
      "tensor(9.5151, grad_fn=<NllLossBackward>)\n",
      "tensor(14.6412, grad_fn=<NllLossBackward>)\n",
      "tensor(4.3039, grad_fn=<NllLossBackward>)\n",
      "tensor(9.5086, grad_fn=<NllLossBackward>)\n",
      "tensor(9.8525, grad_fn=<NllLossBackward>)\n",
      "tensor(15.3782, grad_fn=<NllLossBackward>)\n",
      "tensor(3.5512, grad_fn=<NllLossBackward>)\n",
      "tensor(9.6618, grad_fn=<NllLossBackward>)\n",
      "tensor(9.7618, grad_fn=<NllLossBackward>)\n",
      "tensor(17.3981, grad_fn=<NllLossBackward>)\n",
      "tensor(2.4743, grad_fn=<NllLossBackward>)\n",
      "tensor(2.6863, grad_fn=<NllLossBackward>)\n",
      "tensor(15.7498, grad_fn=<NllLossBackward>)\n",
      "tensor(25.3287, grad_fn=<NllLossBackward>)\n",
      "tensor(6.6655, grad_fn=<NllLossBackward>)\n",
      "tensor(11.3382, grad_fn=<NllLossBackward>)\n",
      "tensor(11.9103, grad_fn=<NllLossBackward>)\n",
      "tensor(7.2592, grad_fn=<NllLossBackward>)\n",
      "tensor(10.6019, grad_fn=<NllLossBackward>)\n",
      "tensor(8.4813, grad_fn=<NllLossBackward>)\n",
      "tensor(14.2992, grad_fn=<NllLossBackward>)\n",
      "tensor(4.7103, grad_fn=<NllLossBackward>)\n",
      "tensor(9.3212, grad_fn=<NllLossBackward>)\n",
      "tensor(10.0801, grad_fn=<NllLossBackward>)\n",
      "tensor(14.9706, grad_fn=<NllLossBackward>)\n",
      "tensor(3.9041, grad_fn=<NllLossBackward>)\n",
      "tensor(9.9301, grad_fn=<NllLossBackward>)\n",
      "tensor(9.3569, grad_fn=<NllLossBackward>)\n",
      "tensor(16.0001, grad_fn=<NllLossBackward>)\n",
      "tensor(2.9944, grad_fn=<NllLossBackward>)\n",
      "tensor(8.8022, grad_fn=<NllLossBackward>)\n",
      "tensor(11.4617, grad_fn=<NllLossBackward>)\n",
      "tensor(24.7757, grad_fn=<NllLossBackward>)\n",
      "tensor(6.0865, grad_fn=<NllLossBackward>)\n",
      "tensor(13.7049, grad_fn=<NllLossBackward>)\n",
      "tensor(12.2482, grad_fn=<NllLossBackward>)\n",
      "tensor(6.8393, grad_fn=<NllLossBackward>)\n",
      "tensor(10.2731, grad_fn=<NllLossBackward>)\n",
      "tensor(8.8628, grad_fn=<NllLossBackward>)\n",
      "tensor(14.1224, grad_fn=<NllLossBackward>)\n",
      "tensor(4.7773, grad_fn=<NllLossBackward>)\n",
      "tensor(9.4952, grad_fn=<NllLossBackward>)\n",
      "tensor(9.8385, grad_fn=<NllLossBackward>)\n",
      "tensor(15.0549, grad_fn=<NllLossBackward>)\n",
      "tensor(3.8594, grad_fn=<NllLossBackward>)\n",
      "tensor(9.7952, grad_fn=<NllLossBackward>)\n",
      "tensor(9.5228, grad_fn=<NllLossBackward>)\n",
      "tensor(16.1412, grad_fn=<NllLossBackward>)\n",
      "tensor(2.9516, grad_fn=<NllLossBackward>)\n",
      "tensor(8.0612, grad_fn=<NllLossBackward>)\n",
      "tensor(12.6125, grad_fn=<NllLossBackward>)\n",
      "tensor(25.3834, grad_fn=<NllLossBackward>)\n",
      "tensor(6.6902, grad_fn=<NllLossBackward>)\n",
      "tensor(13.0160, grad_fn=<NllLossBackward>)\n",
      "tensor(11.9547, grad_fn=<NllLossBackward>)\n",
      "tensor(7.2444, grad_fn=<NllLossBackward>)\n",
      "tensor(10.0820, grad_fn=<NllLossBackward>)\n",
      "tensor(9.1113, grad_fn=<NllLossBackward>)\n",
      "tensor(13.8857, grad_fn=<NllLossBackward>)\n",
      "tensor(5.0784, grad_fn=<NllLossBackward>)\n",
      "tensor(9.4521, grad_fn=<NllLossBackward>)\n",
      "tensor(9.8508, grad_fn=<NllLossBackward>)\n",
      "tensor(14.8972, grad_fn=<NllLossBackward>)\n",
      "tensor(4.0625, grad_fn=<NllLossBackward>)\n"
     ]
    }
   ],
   "source": [
    "for i in range(535):\n",
    "    for data,label in dl:\n",
    "        prde=model(data)\n",
    "        l=label.squeeze()\n",
    "        ls=loss(prde,l)\n",
    "        ls.backward()\n",
    "        optim.step()\n",
    "        optim.zero_grad()\n",
    "    print(ls)\n"
   ]
  },
  {
   "cell_type": "code",
   "execution_count": 130,
   "metadata": {},
   "outputs": [],
   "source": [
    "for data,label in dl:\n",
    "    d=data\n",
    "    l=label\n",
    "    break"
   ]
  },
  {
   "cell_type": "code",
   "execution_count": 131,
   "metadata": {},
   "outputs": [
    {
     "data": {
      "text/plain": [
       "torch.Size([46, 1])"
      ]
     },
     "execution_count": 131,
     "metadata": {},
     "output_type": "execute_result"
    }
   ],
   "source": [
    "label.shape"
   ]
  },
  {
   "cell_type": "code",
   "execution_count": 132,
   "metadata": {},
   "outputs": [
    {
     "data": {
      "text/plain": [
       "torch.Size([46])"
      ]
     },
     "execution_count": 132,
     "metadata": {},
     "output_type": "execute_result"
    }
   ],
   "source": [
    "l.squeeze().shape"
   ]
  },
  {
   "cell_type": "code",
   "execution_count": 133,
   "metadata": {},
   "outputs": [],
   "source": [
    "i,j=torch.max(model(d),dim=1)"
   ]
  },
  {
   "cell_type": "code",
   "execution_count": 134,
   "metadata": {},
   "outputs": [
    {
     "data": {
      "text/plain": [
       "tensor([1, 1, 1, 1, 1, 1, 1, 1, 1, 1, 1, 1, 1, 1, 1, 1, 1, 1, 1, 1, 1, 1, 1, 1,\n",
       "        1, 1, 1, 1, 1, 1, 1, 1, 1, 1, 1, 1, 1, 1, 1, 1, 1, 1, 1, 1, 1, 1])"
      ]
     },
     "execution_count": 134,
     "metadata": {},
     "output_type": "execute_result"
    }
   ],
   "source": [
    "j"
   ]
  },
  {
   "cell_type": "code",
   "execution_count": 135,
   "metadata": {
    "scrolled": true
   },
   "outputs": [
    {
     "data": {
      "text/plain": [
       "46"
      ]
     },
     "execution_count": 135,
     "metadata": {},
     "output_type": "execute_result"
    }
   ],
   "source": [
    "len(j)"
   ]
  },
  {
   "cell_type": "code",
   "execution_count": 136,
   "metadata": {},
   "outputs": [
    {
     "data": {
      "text/plain": [
       "46"
      ]
     },
     "execution_count": 136,
     "metadata": {},
     "output_type": "execute_result"
    }
   ],
   "source": [
    "len(l)"
   ]
  },
  {
   "cell_type": "code",
   "execution_count": 137,
   "metadata": {},
   "outputs": [
    {
     "data": {
      "text/plain": [
       "tensor(33)"
      ]
     },
     "execution_count": 137,
     "metadata": {},
     "output_type": "execute_result"
    }
   ],
   "source": [
    "torch.sum(l==j)/len(j)"
   ]
  },
  {
   "cell_type": "code",
   "execution_count": 138,
   "metadata": {},
   "outputs": [],
   "source": [
    "X_test=np.array(X_test)\n",
    "y_test=np.array(y_test)"
   ]
  },
  {
   "cell_type": "code",
   "execution_count": 139,
   "metadata": {},
   "outputs": [],
   "source": [
    "X_test=torch.from_numpy(X_test).float()\n",
    "y_test=torch.from_numpy(y_test).float()"
   ]
  },
  {
   "cell_type": "code",
   "execution_count": 140,
   "metadata": {},
   "outputs": [],
   "source": [
    "y_test=y_test.type(torch.LongTensor)"
   ]
  },
  {
   "cell_type": "code",
   "execution_count": 141,
   "metadata": {},
   "outputs": [],
   "source": [
    "tl=TensorDataset(X_test,y_test)\n",
    "dl=DataLoader(tl,batch_size=75)"
   ]
  },
  {
   "cell_type": "code",
   "execution_count": 151,
   "metadata": {},
   "outputs": [
    {
     "name": "stdout",
     "output_type": "stream",
     "text": [
      "loss=9.580245018005371 acc=33.0\n"
     ]
    }
   ],
   "source": [
    "optim=torch.optim.SGD(model.parameters(),lr=0.010456701)\n",
    "loss=nn.functional.cross_entropy\n",
    "for x in range(500):\n",
    "    for i,j in dl:\n",
    "        with torch.no_grad():\n",
    "            pred=model(i)\n",
    "            jj=j.squeeze()\n",
    "            ls=loss(pred,jj)\n",
    "            _,pre=torch.max(pred,dim=1)\n",
    "            acc=torch.sum(pre==j).item()/len(j)\n",
    "\n",
    "print(f\"loss={ls} acc={acc}\")"
   ]
  },
  {
   "cell_type": "code",
   "execution_count": null,
   "metadata": {},
   "outputs": [],
   "source": []
  }
 ],
 "metadata": {
  "kernelspec": {
   "display_name": "Python 3",
   "language": "python",
   "name": "python3"
  },
  "language_info": {
   "codemirror_mode": {
    "name": "ipython",
    "version": 3
   },
   "file_extension": ".py",
   "mimetype": "text/x-python",
   "name": "python",
   "nbconvert_exporter": "python",
   "pygments_lexer": "ipython3",
   "version": "3.7.6"
  }
 },
 "nbformat": 4,
 "nbformat_minor": 4
}
